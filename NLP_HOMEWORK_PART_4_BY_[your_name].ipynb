{
  "cells": [
    {
      "cell_type": "markdown",
      "id": "46f519c8",
      "metadata": {
        "id": "46f519c8"
      },
      "source": [
        "#[Your_name]"
      ]
    },
    {
      "cell_type": "markdown",
      "id": "e7efe140",
      "metadata": {
        "id": "e7efe140"
      },
      "source": [
        "Prepare libraries and data"
      ]
    },
    {
      "cell_type": "code",
      "execution_count": 2,
      "id": "af6058ed",
      "metadata": {
        "id": "af6058ed"
      },
      "outputs": [],
      "source": [
        "# here put every import you need e.g. import nltk\n",
        "import pandas as pd\n",
        "import tensorflow as tf\n",
        "import numpy as np\n",
        "import re\n",
        "import matplotlib.pyplot as plt\n",
        "import nltk\n",
        "from bidi.algorithm import get_display\n",
        "import os\n",
        "import matplotlib.pyplot as plt\n",
        "from wordcloud import WordCloud\n",
        "import arabic_reshaper\n",
        "from stop_words import get_stop_words"
      ]
    },
    {
      "cell_type": "markdown",
      "id": "229df102",
      "metadata": {
        "id": "229df102"
      },
      "source": [
        "Download data"
      ]
    },
    {
      "cell_type": "code",
      "execution_count": 3,
      "id": "5504e7ee",
      "metadata": {
        "id": "5504e7ee"
      },
      "outputs": [],
      "source": [
        "# !wget 'https://drive.google.com/uc?export=download&id=1121dzWdV2ZIrQSSSLs0N4P5b3qRwg428' -O 'final_data.zip'"
      ]
    },
    {
      "cell_type": "code",
      "execution_count": 2,
      "id": "530e1bac",
      "metadata": {
        "id": "530e1bac"
      },
      "outputs": [],
      "source": [
        "# !unzip final_data.zip"
      ]
    },
    {
      "cell_type": "markdown",
      "id": "3400638b",
      "metadata": {
        "id": "3400638b"
      },
      "source": [
        "# Step [1]: Load the data"
      ]
    },
    {
      "cell_type": "markdown",
      "id": "8E7xa9XLPW8t",
      "metadata": {
        "id": "8E7xa9XLPW8t"
      },
      "source": [
        "reading the data from csv file and load it to \"train_data\" variable \\n then calling ###.head ### function to show the head of the first  5 elements in the dataframe"
      ]
    },
    {
      "cell_type": "code",
      "execution_count": 53,
      "id": "d41a9612",
      "metadata": {
        "id": "d41a9612"
      },
      "outputs": [
        {
          "data": {
            "text/html": [
              "<div>\n",
              "<style scoped>\n",
              "    .dataframe tbody tr th:only-of-type {\n",
              "        vertical-align: middle;\n",
              "    }\n",
              "\n",
              "    .dataframe tbody tr th {\n",
              "        vertical-align: top;\n",
              "    }\n",
              "\n",
              "    .dataframe thead th {\n",
              "        text-align: right;\n",
              "    }\n",
              "</style>\n",
              "<table border=\"1\" class=\"dataframe\">\n",
              "  <thead>\n",
              "    <tr style=\"text-align: right;\">\n",
              "      <th></th>\n",
              "      <th>text</th>\n",
              "      <th>label</th>\n",
              "    </tr>\n",
              "  </thead>\n",
              "  <tbody>\n",
              "    <tr>\n",
              "      <th>0</th>\n",
              "      <td>قناة الجزيرة تنقل الاحداث في اوكرانيا وكأنها ت...</td>\n",
              "      <td>positive</td>\n",
              "    </tr>\n",
              "    <tr>\n",
              "      <th>1</th>\n",
              "      <td>@AJABreaking النصر لاوكرانيا البطله الصامده 🔥🔥💪🇺🇦</td>\n",
              "      <td>negative</td>\n",
              "    </tr>\n",
              "    <tr>\n",
              "      <th>2</th>\n",
              "      <td>@ZAINABKADYROV اللله يكون مع روسيا من ثعالب الأرض</td>\n",
              "      <td>positive</td>\n",
              "    </tr>\n",
              "    <tr>\n",
              "      <th>3</th>\n",
              "      <td>جرائم حرب تجري الآن في #أوكرانيا يتحمل مسؤوليت...</td>\n",
              "      <td>negative</td>\n",
              "    </tr>\n",
              "    <tr>\n",
              "      <th>4</th>\n",
              "      <td>إطاله أمد الحرب قليلاً (أسابيع)\\nثم صواريخ أوك...</td>\n",
              "      <td>negative</td>\n",
              "    </tr>\n",
              "  </tbody>\n",
              "</table>\n",
              "</div>"
            ],
            "text/plain": [
              "                                                text     label\n",
              "0  قناة الجزيرة تنقل الاحداث في اوكرانيا وكأنها ت...  positive\n",
              "1  @AJABreaking النصر لاوكرانيا البطله الصامده 🔥🔥💪🇺🇦  negative\n",
              "2  @ZAINABKADYROV اللله يكون مع روسيا من ثعالب الأرض  positive\n",
              "3  جرائم حرب تجري الآن في #أوكرانيا يتحمل مسؤوليت...  negative\n",
              "4  إطاله أمد الحرب قليلاً (أسابيع)\\nثم صواريخ أوك...  negative"
            ]
          },
          "execution_count": 53,
          "metadata": {},
          "output_type": "execute_result"
        }
      ],
      "source": [
        "# your code here\n",
        "train_data = pd.read_csv('train.csv')\n",
        "train_data.head()\n"
      ]
    },
    {
      "cell_type": "code",
      "execution_count": 41,
      "id": "9e9c920c",
      "metadata": {},
      "outputs": [
        {
          "name": "stdout",
          "output_type": "stream",
          "text": [
            "Number of rows(samples) = 33924\n"
          ]
        }
      ],
      "source": [
        "print(\"Number of rows(samples) =\",train_data.shape[0])"
      ]
    },
    {
      "cell_type": "markdown",
      "id": "51ab9837",
      "metadata": {},
      "source": [
        "### Deleting duplicated rows in the DataFrame"
      ]
    },
    {
      "cell_type": "markdown",
      "id": "3ab42aac",
      "metadata": {},
      "source": [
        "the function below picks the duplicated values and we defined that they must be different in the label class to detirmine wether it's duplicated or not ( difference (['label']))"
      ]
    },
    {
      "cell_type": "code",
      "execution_count": 48,
      "id": "aNNrMjaaQanf",
      "metadata": {
        "id": "aNNrMjaaQanf"
      },
      "outputs": [
        {
          "name": "stdout",
          "output_type": "stream",
          "text": [
            "there is Duplicated rows almost -> 9156\n"
          ]
        }
      ],
      "source": [
        "duplicateRows = train_data[train_data.duplicated(subset = train_data.columns.difference(['label']))]\n",
        "if duplicateRows.shape[0] > 0 : \n",
        "    print(\"there is Duplicated rows almost ->\",duplicateRows.shape[0]) "
      ]
    },
    {
      "attachments": {},
      "cell_type": "markdown",
      "id": "8e8d072d",
      "metadata": {},
      "source": [
        "this is a simple random example of the duplicated rows"
      ]
    },
    {
      "cell_type": "code",
      "execution_count": 43,
      "id": "196e10c6",
      "metadata": {},
      "outputs": [],
      "source": [
        "text = train_data.iloc[257]['text']"
      ]
    },
    {
      "cell_type": "code",
      "execution_count": 44,
      "id": "dab5f599",
      "metadata": {},
      "outputs": [
        {
          "data": {
            "text/html": [
              "<div>\n",
              "<style scoped>\n",
              "    .dataframe tbody tr th:only-of-type {\n",
              "        vertical-align: middle;\n",
              "    }\n",
              "\n",
              "    .dataframe tbody tr th {\n",
              "        vertical-align: top;\n",
              "    }\n",
              "\n",
              "    .dataframe thead th {\n",
              "        text-align: right;\n",
              "    }\n",
              "</style>\n",
              "<table border=\"1\" class=\"dataframe\">\n",
              "  <thead>\n",
              "    <tr style=\"text-align: right;\">\n",
              "      <th></th>\n",
              "      <th>text</th>\n",
              "      <th>label</th>\n",
              "    </tr>\n",
              "  </thead>\n",
              "  <tbody>\n",
              "    <tr>\n",
              "      <th>210</th>\n",
              "      <td>@u2nd1 اتوقع يصير فيه مناوشات مع اوكرانيا وبلا...</td>\n",
              "      <td>neutral</td>\n",
              "    </tr>\n",
              "    <tr>\n",
              "      <th>257</th>\n",
              "      <td>@u2nd1 اتوقع يصير فيه مناوشات مع اوكرانيا وبلا...</td>\n",
              "      <td>neutral</td>\n",
              "    </tr>\n",
              "    <tr>\n",
              "      <th>16575</th>\n",
              "      <td>@u2nd1 اتوقع يصير فيه مناوشات مع اوكرانيا وبلا...</td>\n",
              "      <td>neutral</td>\n",
              "    </tr>\n",
              "  </tbody>\n",
              "</table>\n",
              "</div>"
            ],
            "text/plain": [
              "                                                    text    label\n",
              "210    @u2nd1 اتوقع يصير فيه مناوشات مع اوكرانيا وبلا...  neutral\n",
              "257    @u2nd1 اتوقع يصير فيه مناوشات مع اوكرانيا وبلا...  neutral\n",
              "16575  @u2nd1 اتوقع يصير فيه مناوشات مع اوكرانيا وبلا...  neutral"
            ]
          },
          "execution_count": 44,
          "metadata": {},
          "output_type": "execute_result"
        }
      ],
      "source": [
        "train_data[train_data['text']==text]"
      ]
    },
    {
      "cell_type": "code",
      "execution_count": 54,
      "id": "2cde5e30",
      "metadata": {},
      "outputs": [
        {
          "name": "stdout",
          "output_type": "stream",
          "text": [
            "Shape of dataset before removing duplicate rows = (33924, 2)\n",
            "Shape of dataset after removing duplicate rows = (26307, 2)\n"
          ]
        }
      ],
      "source": [
        "print(\"Shape of dataset before removing duplicate rows =\", train_data.shape)\n",
        "train_data.drop_duplicates(inplace = True, ignore_index = True)\n",
        "print(\"Shape of dataset after removing duplicate rows =\", train_data.shape)"
      ]
    },
    {
      "attachments": {},
      "cell_type": "markdown",
      "id": "16e6be9d",
      "metadata": {},
      "source": [
        " i kept the only one sample from all duplicated"
      ]
    },
    {
      "cell_type": "code",
      "execution_count": 46,
      "id": "2d280ab6",
      "metadata": {},
      "outputs": [
        {
          "data": {
            "text/html": [
              "<div>\n",
              "<style scoped>\n",
              "    .dataframe tbody tr th:only-of-type {\n",
              "        vertical-align: middle;\n",
              "    }\n",
              "\n",
              "    .dataframe tbody tr th {\n",
              "        vertical-align: top;\n",
              "    }\n",
              "\n",
              "    .dataframe thead th {\n",
              "        text-align: right;\n",
              "    }\n",
              "</style>\n",
              "<table border=\"1\" class=\"dataframe\">\n",
              "  <thead>\n",
              "    <tr style=\"text-align: right;\">\n",
              "      <th></th>\n",
              "      <th>text</th>\n",
              "      <th>label</th>\n",
              "    </tr>\n",
              "  </thead>\n",
              "  <tbody>\n",
              "  </tbody>\n",
              "</table>\n",
              "</div>"
            ],
            "text/plain": [
              "Empty DataFrame\n",
              "Columns: [text, label]\n",
              "Index: []"
            ]
          },
          "execution_count": 46,
          "metadata": {},
          "output_type": "execute_result"
        }
      ],
      "source": [
        "train_data[train_data['text']==text]"
      ]
    },
    {
      "cell_type": "code",
      "execution_count": 26,
      "id": "91dc2107",
      "metadata": {},
      "outputs": [],
      "source": [
        "def check_nan(df):\n",
        "    Nan_columns = df.columns[df.isnull().any()]\n",
        "    if len(Nan_columns) > 0:\n",
        "        for i in Nan_columns:\n",
        "                print(i, df[i].isnull().sum())\n",
        "    else : \n",
        "        print(\" No null values found 😍\")\n",
        "            "
      ]
    },
    {
      "cell_type": "code",
      "execution_count": 27,
      "id": "f7e9d60d",
      "metadata": {},
      "outputs": [
        {
          "name": "stdout",
          "output_type": "stream",
          "text": [
            "text 3\n",
            "label 51\n"
          ]
        }
      ],
      "source": [
        "check_nan(train_data)"
      ]
    },
    {
      "cell_type": "code",
      "execution_count": 9,
      "id": "a78ab7d7",
      "metadata": {},
      "outputs": [],
      "source": [
        "cleaned_nan_duplic = train_data.dropna()"
      ]
    },
    {
      "cell_type": "code",
      "execution_count": 10,
      "id": "f94e274c",
      "metadata": {},
      "outputs": [
        {
          "name": "stdout",
          "output_type": "stream",
          "text": [
            " No null values found 😍\n"
          ]
        }
      ],
      "source": [
        "check_nan(cleaned_nan_duplic)"
      ]
    },
    {
      "cell_type": "code",
      "execution_count": 11,
      "id": "337a469c",
      "metadata": {},
      "outputs": [
        {
          "name": "stdout",
          "output_type": "stream",
          "text": [
            "Shape before removing NAN rows = 26307\n",
            "Shape after removing NAN rows = 26254\n"
          ]
        }
      ],
      "source": [
        "print(\"Shape before removing NAN rows =\", train_data.shape[0])\n",
        "\n",
        "print(\"Shape after removing NAN rows =\", cleaned_nan_duplic.shape[0])"
      ]
    },
    {
      "cell_type": "code",
      "execution_count": 29,
      "id": "dcd24c2d",
      "metadata": {},
      "outputs": [],
      "source": [
        "# i save it for saving time and not running all the cells before when comming back in the next time\n",
        "cleaned_nan_duplic.to_csv('cleaned.csv' , index= False)"
      ]
    },
    {
      "cell_type": "markdown",
      "id": "d9NfyVxZQXF7",
      "metadata": {
        "id": "d9NfyVxZQXF7"
      },
      "source": [
        "بعد كل خطوة ستكتب إجابة السؤال في حال وجوده أو ملاحظاتك أيضاً في حال وجودها."
      ]
    },
    {
      "cell_type": "code",
      "execution_count": 2,
      "id": "884e02fb",
      "metadata": {},
      "outputs": [],
      "source": [
        "cleaned_nan_duplic = pd.read_csv('cleaned_nan_duplic.csv')"
      ]
    },
    {
      "cell_type": "markdown",
      "id": "2f22713d",
      "metadata": {
        "id": "2f22713d"
      },
      "source": [
        "# Step [2]: Text Analysis"
      ]
    },
    {
      "attachments": {},
      "cell_type": "markdown",
      "id": "03ef90d1",
      "metadata": {
        "id": "03ef90d1"
      },
      "source": [
        "## [2.1] \n",
        "df.unique: extract unique valuse from the column"
      ]
    },
    {
      "cell_type": "code",
      "execution_count": 9,
      "id": "c1b8c64b",
      "metadata": {
        "id": "c1b8c64b"
      },
      "outputs": [
        {
          "data": {
            "text/plain": [
              "array(['positive', 'negative', 'neutral', 'irrelevent', 'Irrelevant',\n",
              "       'Neutral', 'Negative', 'NEGATIVE', 'netural', 'Positive',\n",
              "       'positve', 'postive', 'NEUTRAL', 'positive ', 'Irrelevent',\n",
              "       'irrelevant', 'POSITIVE', 'positiive', 'IRRELEVENT', 'irrevant',\n",
              "       'neurtal', ' neutral', 'natural', 'negtive'], dtype=object)"
            ]
          },
          "execution_count": 9,
          "metadata": {},
          "output_type": "execute_result"
        }
      ],
      "source": [
        "cleaned_nan_duplic['label'].unique()"
      ]
    },
    {
      "attachments": {},
      "cell_type": "markdown",
      "id": "6d659202",
      "metadata": {},
      "source": [
        "we can use Regex but why complicate things!, a simple method(but not super dynamic would work!) <br> postive-label: all different words *start* with 'pos' <br> negative-label: all different words *starts* with 'neg' <br> irrelevante-label: all different words *starts* with 'irr'<br> neutral-label: all different words *ends* with 'al'"
      ]
    },
    {
      "attachments": {},
      "cell_type": "markdown",
      "id": "90456207",
      "metadata": {},
      "source": [
        "after studying the \"Unique\" values i ended up with these simlpe *RULES* <br>\n",
        "since **neutral** have many starting up charactars, i decided to check the ends instead :)"
      ]
    },
    {
      "cell_type": "code",
      "execution_count": 34,
      "id": "dabd9505",
      "metadata": {},
      "outputs": [],
      "source": [
        "def word_standrlization(word):\n",
        "    lower_word = word.casefold()\n",
        "    if lower_word.startswith('p'):\n",
        "        return 'positive'\n",
        "    if lower_word.startswith('irr'):\n",
        "        return 'irrelevante'\n",
        "    if lower_word.endswith('al'):\n",
        "        return 'neutral'\n",
        "    if lower_word.startswith('neg'):\n",
        "        return 'negative'"
      ]
    },
    {
      "cell_type": "code",
      "execution_count": 33,
      "id": "e07bf24e",
      "metadata": {},
      "outputs": [
        {
          "data": {
            "text/plain": [
              "array(['positive', 'negative', 'neutral', 'irrelevante'], dtype=object)"
            ]
          },
          "execution_count": 33,
          "metadata": {},
          "output_type": "execute_result"
        }
      ],
      "source": [
        "cleaned_nan_duplic['label'] = cleaned_nan_duplic['label'].apply(lambda x: word_standrlization(x))\n",
        "cleaned_nan_duplic['label'].unique()"
      ]
    },
    {
      "cell_type": "markdown",
      "id": "24164796",
      "metadata": {
        "id": "24164796"
      },
      "source": [
        "## [2.2] "
      ]
    },
    {
      "attachments": {},
      "cell_type": "markdown",
      "id": "1d20b903",
      "metadata": {},
      "source": [
        "extract labels then count the number of samples over the label, finally drawing the delicious Pie 😋"
      ]
    },
    {
      "cell_type": "code",
      "execution_count": 63,
      "id": "SexYXq1-P0Y0",
      "metadata": {
        "id": "SexYXq1-P0Y0"
      },
      "outputs": [
        {
          "name": "stdout",
          "output_type": "stream",
          "text": [
            "[5713, 5472, 11559, 3510]\n"
          ]
        }
      ],
      "source": [
        "labels = cleaned_nan_duplic['label'].unique()\n",
        "counts =[]\n",
        "for i in labels:\n",
        "    counts.append(len(cleaned_nan_duplic.loc[cleaned_nan_duplic['label']==i].sum(axis=1)))\n",
        "print(counts)"
      ]
    },
    {
      "cell_type": "code",
      "execution_count": 69,
      "id": "406c06ab",
      "metadata": {},
      "outputs": [
        {
          "data": {
            "image/png": "[encoded data removed]",
            "text/plain": [
              "<Figure size 640x480 with 1 Axes>"
            ]
          },
          "metadata": {},
          "output_type": "display_data"
        }
      ],
      "source": [
        "plt.pie(counts, labels = labels)\n",
        "plt.show() "
      ]
    },
    {
      "cell_type": "markdown",
      "id": "KFerFDFqPwPI",
      "metadata": {
        "id": "KFerFDFqPwPI"
      },
      "source": [
        "## [2.3] "
      ]
    },
    {
      "cell_type": "code",
      "execution_count": 128,
      "id": "c092a955",
      "metadata": {},
      "outputs": [
        {
          "name": "stdout",
          "output_type": "stream",
          "text": [
            "@q8zero_75 بصراحة خيي روسيا و اوكرانيا بينهم مشاكل واحنا لازم ندخل ونفاكك بينهم 🤣🤣🤣\n"
          ]
        }
      ],
      "source": [
        "test_senctence = cleaned_nan_duplic['text'][54]\n",
        "print(test_senctence)\n",
        "# 785"
      ]
    },
    {
      "attachments": {},
      "cell_type": "markdown",
      "id": "e7e9714a",
      "metadata": {},
      "source": [
        "we can use RegexToknizer, but as what we will see it's not as effecient as TweetToknizer.<br> Regex can't split emojis while emojis might be important for Sentement analysis "
      ]
    },
    {
      "cell_type": "code",
      "execution_count": 129,
      "id": "271e3d8e",
      "metadata": {},
      "outputs": [
        {
          "name": "stdout",
          "output_type": "stream",
          "text": [
            "['@q8zero_75', 'بصراحة', 'خيي', 'روسيا', 'و', 'اوكرانيا', 'بينهم', 'مشاكل', 'واحنا', 'لازم', 'ندخل', 'ونفاكك', 'بينهم', '🤣🤣🤣']\n"
          ]
        }
      ],
      "source": [
        "space_tokenizer = RegexpTokenizer(\"\\s+\", gaps=True)\n",
        "space_tokens = []\n",
        "# for sent in compare_list:\n",
        "print(space_tokenizer.tokenize(test_senctence))\n",
        "space_tokens.append(space_tokenizer.tokenize(test_senctence))"
      ]
    },
    {
      "cell_type": "code",
      "execution_count": 146,
      "id": "2583797b",
      "metadata": {},
      "outputs": [
        {
          "name": "stdout",
          "output_type": "stream",
          "text": [
            "['@q8zero_75', 'بصراحة', 'خيي', 'روسيا', 'و', 'اوكرانيا', 'بينهم', 'مشاكل', 'واحنا', 'لازم', 'ندخل', 'ونفاكك', 'بينهم', '🤣', '🤣', '🤣']\n",
            "None\n"
          ]
        }
      ],
      "source": [
        "tweet_tokenizer = nltk.TweetTokenizer()\n",
        "tweet_tokens = []\n",
        "# for sent in compare_list:\n",
        "print(tweet_tokenizer.tokenize(test_senctence))\n",
        "print(tweet_tokens.append(tweet_tokenizer.tokenize(test_senctence)))"
      ]
    },
    {
      "cell_type": "code",
      "execution_count": 147,
      "id": "63f0551d",
      "metadata": {},
      "outputs": [],
      "source": [
        "def toknize_tweet(tweet):\n",
        "    tweet_tokenizer = nltk.TweetTokenizer()\n",
        "    tweet_tokens = tweet_tokenizer.tokenize(tweet)\n",
        "    tweet_clean = []\n",
        "    for token in tweet_tokens:\n",
        "        tweet_clean.append(token)\n",
        "    return tweet_clean\n"
      ]
    },
    {
      "cell_type": "code",
      "execution_count": 148,
      "id": "5ea805f7",
      "metadata": {},
      "outputs": [
        {
          "name": "stdout",
          "output_type": "stream",
          "text": [
            "['أميل', 'للاعتقاد', 'ان', 'الحرب', 'بين', 'روسيا', 'و', 'أوكرانيا', 'قامت', 'من', 'أجل', 'هدف', 'واحد', 'وهو', 'تمرير', 'الاتفاق', 'النووي', 'بين', 'إيران', 'و', 'العالم', 'رغم', 'مافي', 'هذا', 'الاعتقاد', 'من', 'تبسيط', 'للأمور', '!']\n"
          ]
        }
      ],
      "source": [
        "print(toknize_tweet(cleaned_nan_duplic['text'][250]))"
      ]
    },
    {
      "cell_type": "code",
      "execution_count": 152,
      "id": "c48ffd41",
      "metadata": {},
      "outputs": [],
      "source": [
        "cleaned_nan_duplic['tokenized_sents'] = cleaned_nan_duplic.apply(lambda row: toknize_tweet(row['text']), axis=1)"
      ]
    },
    {
      "cell_type": "code",
      "execution_count": 154,
      "id": "3134025d",
      "metadata": {},
      "outputs": [
        {
          "data": {
            "text/plain": [
              "0    [قناة, الجزيرة, تنقل, الاحداث, في, اوكرانيا, و...\n",
              "1    [@AJABreaking, النصر, لاوكرانيا, البطله, الصام...\n",
              "2    [@ZAINABKADYROV, اللله, يكون, مع, روسيا, من, ث...\n",
              "3    [جرائم, حرب, تجري, الآن, في, #أوكرانيا, يتحمل,...\n",
              "4    [إطاله, أمد, الحرب, قليلاً, (, أسابيع, ), ثم, ...\n",
              "Name: tokenized_sents, dtype: object"
            ]
          },
          "execution_count": 154,
          "metadata": {},
          "output_type": "execute_result"
        }
      ],
      "source": [
        "\n",
        "cleaned_nan_duplic['tokenized_sents'].head()"
      ]
    },
    {
      "attachments": {},
      "cell_type": "markdown",
      "id": "872b6341",
      "metadata": {},
      "source": [
        "number of the whole words in the dataFrame "
      ]
    },
    {
      "cell_type": "code",
      "execution_count": 159,
      "id": "223e139c",
      "metadata": {},
      "outputs": [
        {
          "data": {
            "text/plain": [
              "729867"
            ]
          },
          "execution_count": 159,
          "metadata": {},
          "output_type": "execute_result"
        }
      ],
      "source": [
        "cleaned_nan_duplic[\"Number of Words\"] = cleaned_nan_duplic[\"tokenized_sents\"].apply(lambda n: len(n))\n",
        "#  the number of words for all tweets in the whole data frame 😉\n",
        "cleaned_nan_duplic['Number of Words'].sum()"
      ]
    },
    {
      "cell_type": "code",
      "execution_count": 162,
      "id": "bfd5a806",
      "metadata": {},
      "outputs": [],
      "source": [
        "cleaned_nan_duplic.to_csv('toknized.csv')"
      ]
    },
    {
      "cell_type": "code",
      "execution_count": 3,
      "id": "8f2ab565",
      "metadata": {},
      "outputs": [],
      "source": [
        "cleaned_nan_duplic = pd.read_csv('toknized.csv')"
      ]
    },
    {
      "attachments": {},
      "cell_type": "markdown",
      "id": "bdd612d4",
      "metadata": {},
      "source": [
        "number of special words in the whole dataFrame 😁"
      ]
    },
    {
      "cell_type": "code",
      "execution_count": 161,
      "id": "104ce1e6",
      "metadata": {},
      "outputs": [
        {
          "data": {
            "text/plain": [
              "93332"
            ]
          },
          "execution_count": 161,
          "metadata": {},
          "output_type": "execute_result"
        }
      ],
      "source": [
        "len(set(cleaned_nan_duplic[\"tokenized_sents\"].sum()))"
      ]
    },
    {
      "cell_type": "markdown",
      "id": "-4LEgCtvPwaQ",
      "metadata": {
        "id": "-4LEgCtvPwaQ"
      },
      "source": [
        "## [2.4] "
      ]
    },
    {
      "attachments": {},
      "cell_type": "markdown",
      "id": "7cb0f367",
      "metadata": {},
      "source": [
        "get all tokenized words gathered and then plotting them "
      ]
    },
    {
      "cell_type": "code",
      "execution_count": 275,
      "id": "9a955e93",
      "metadata": {},
      "outputs": [],
      "source": [
        "words_str = str(cleaned_nan_duplic['tokenized_sents'].sum())"
      ]
    },
    {
      "cell_type": "code",
      "execution_count": 276,
      "id": "905c3043",
      "metadata": {},
      "outputs": [
        {
          "data": {
            "image/png": "[encoded data removed]",
            "text/plain": [
              "<Figure size 800x800 with 1 Axes>"
            ]
          },
          "metadata": {},
          "output_type": "display_data"
        }
      ],
      "source": [
        "# arabia_stop_words = get_stop_words('arabic')\n",
        "wc = WordCloud(font_path='arial')\n",
        "word_cloud = wc.generate_from_text(get_display(arabic_reshaper.reshape(words_str)))\n",
        "plt.figure(figsize=(8,8) , facecolor= None)\n",
        "plt.imshow(wc,interpolation=\"bilinear\")\n",
        "plt.axis('off')\n",
        "plt.tight_layout(pad = 0)\n",
        "plt.show()\n"
      ]
    },
    {
      "cell_type": "markdown",
      "id": "ZgzDVRqCQ72Q",
      "metadata": {
        "id": "ZgzDVRqCQ72Q"
      },
      "source": [
        "## [2.5] "
      ]
    },
    {
      "cell_type": "code",
      "execution_count": 4,
      "id": "3WFp0g3DQ72V",
      "metadata": {
        "id": "3WFp0g3DQ72V"
      },
      "outputs": [],
      "source": [
        "def most_frequent_words(text):\n",
        "    fdist = nltk.FreqDist(text)\n",
        "    return fdist.most_common(15)"
      ]
    },
    {
      "cell_type": "code",
      "execution_count": 5,
      "id": "c8aca60d",
      "metadata": {},
      "outputs": [],
      "source": [
        "def least_frequent_words(text):\n",
        "    fdist = nltk.FreqDist(text)\n",
        "    return fdist.hapaxes()[:10]\n"
      ]
    },
    {
      "cell_type": "code",
      "execution_count": 366,
      "id": "899ceb82",
      "metadata": {},
      "outputs": [],
      "source": [
        "data_text = cleaned_nan_duplic['tokenized_sents'].sum()"
      ]
    },
    {
      "attachments": {},
      "cell_type": "markdown",
      "id": "bd4a7f9d",
      "metadata": {},
      "source": [
        "### check the answer it's wrong !!!!!!!"
      ]
    },
    {
      "cell_type": "markdown",
      "id": "84a14553",
      "metadata": {},
      "source": [
        "for bgram in nltk.ngrams(text,2):\n",
        "        bigram.append(bgram)\n",
        "    fdist_b=nltk.FreqDist(bigram)\n",
        "    mostCommonB=fdist_b.most_common(10)\n",
        "        \n",
        "-------------------------------------------\n",
        "    \n",
        "    bigram_measures = nltk.collocations.BigramAssocMeasures()\n",
        "    bcf = BigramCollocationFinder.from_words(text)\n",
        "    BigramColl=bcf.nbest(bigram_measures.pmi, 10)"
      ]
    },
    {
      "cell_type": "code",
      "execution_count": 6,
      "id": "52afd8c0",
      "metadata": {},
      "outputs": [],
      "source": [
        "def most_occure(text,times):\n",
        "    text_corpus = nltk.Text(text)\n",
        "    return (text_corpus.collocations(10,times))"
      ]
    },
    {
      "cell_type": "code",
      "execution_count": 381,
      "id": "b4f01cc4",
      "metadata": {},
      "outputs": [
        {
          "name": "stdout",
          "output_type": "stream",
          "text": [
            "روسيا وأوكرانيا; #روسيا #أوكرانيا; الولايات المتحدة; بين روسيا; روسيا\n",
            "واوكرانيا; الجيش الروسي; الدب الروسي; الحرب الروسية; حرب روسيا; الرئيس\n",
            "الأوكراني\n"
          ]
        }
      ],
      "source": [
        "most_occure(data_text,2)"
      ]
    },
    {
      "cell_type": "code",
      "execution_count": 382,
      "id": "r-eILHxqQ77S",
      "metadata": {
        "id": "r-eILHxqQ77S"
      },
      "outputs": [
        {
          "name": "stdout",
          "output_type": "stream",
          "text": [
            "#روسيا #أوكرانيا; روسيا وأوكرانيا; الولايات المتحدة; حرب روسيا; الجيش\n",
            "الروسي; الحرب الروسية; القوات الروسية; الدب الروسي; روسيا واوكرانيا;\n",
            "الرئيس الأوكراني\n"
          ]
        }
      ],
      "source": [
        "most_occure(data_text,3)"
      ]
    },
    {
      "cell_type": "code",
      "execution_count": 8,
      "id": "fdc0a44d",
      "metadata": {},
      "outputs": [
        {
          "data": {
            "text/plain": [
              "\"['@AJABreaking', 'النصر', 'لاوكرانيا', 'البطله', 'الصامده', '🔥', '🔥', '💪', '🇺', '🇦']\""
            ]
          },
          "execution_count": 8,
          "metadata": {},
          "output_type": "execute_result"
        }
      ],
      "source": [
        "test_data = cleaned_nan_duplic['tokenized_sents']\n",
        "type(test_data)\n",
        "test_data[1]"
      ]
    },
    {
      "cell_type": "code",
      "execution_count": 57,
      "id": "5baaa861",
      "metadata": {},
      "outputs": [
        {
          "name": "stdout",
          "output_type": "stream",
          "text": [
            "0    ['قناة', 'الجزيرة', 'تنقل', 'الاحداث', 'في', '...\n",
            "1    ['@AJABreaking', 'النصر', 'لاوكرانيا', 'البطله...\n",
            "2    ['@ZAINABKADYROV', 'اللله', 'يكون', 'مع', 'روس...\n",
            "Name: tokenized_sents, dtype: object\n"
          ]
        }
      ],
      "source": [
        "# from nltk import word_tokenize \n",
        "from nltk.util import bigrams\n",
        "text = cleaned_nan_duplic['tokenized_sents'][:3].splite()\n",
        "print(text)\n",
        "for tweet in text:\n",
        "    g = list(bigrams(tweet.split(',')))\n",
        "    \n",
        "    "
      ]
    },
    {
      "cell_type": "code",
      "execution_count": 78,
      "id": "5d047883",
      "metadata": {},
      "outputs": [],
      "source": [
        "text_split = cleaned_nan_duplic['tokenized_sents'].apply(lambda x : x.split())\n"
      ]
    },
    {
      "cell_type": "code",
      "execution_count": 69,
      "id": "7c0d903d",
      "metadata": {},
      "outputs": [
        {
          "data": {
            "text/plain": [
              "[\"['@NUCWorldConf',\",\n",
              " \"'يامغفل',\",\n",
              " \"'اذا',\",\n",
              " \"'بوتين',\",\n",
              " \"'خسر',\",\n",
              " \"'الحرب',\",\n",
              " \"'فماذا',\",\n",
              " \"'كسبت',\",\n",
              " \"'انتة',\",\n",
              " \"'يالخيجة',\",\n",
              " \"'؟']\"]"
            ]
          },
          "execution_count": 69,
          "metadata": {},
          "output_type": "execute_result"
        }
      ],
      "source": [
        "text_split[5]"
      ]
    },
    {
      "cell_type": "code",
      "execution_count": 378,
      "id": "926c6d81",
      "metadata": {},
      "outputs": [
        {
          "name": "stdout",
          "output_type": "stream",
          "text": [
            "[(\"'🇷',\", \"'🇺',\"), (\"'!',\", \"'!',\"), (\"'روسيا',\", \"'وأوكرانيا',\"), (\"'#روسيا',\", \"'#أوكرانيا',\"), (\"'🇺',\", \"'🇦',\"), (\"'?',\", \"'?',\"), (\"'الولايات',\", \"'المتحدة',\"), (\"'في',\", \"'أوكرانيا',\"), (\"'بين',\", \"'روسيا',\"), (\"'روسيا',\", \"'واوكرانيا',\")]\n"
          ]
        }
      ],
      "source": [
        "from nltk.collocations import *\n",
        "bigram_measures = nltk.collocations.BigramAssocMeasures()\n",
        "trigram_measures = nltk.collocations.TrigramAssocMeasures()\n",
        "\n",
        "# creature_filter = lambda *w: 'روسيا' not in w\n",
        "\n",
        "## Bigrams\n",
        "\n",
        "finder = BigramCollocationFinder.from_documents(text_split)\n",
        "finder.apply_freq_filter(3)\n",
        "print(finder.nbest(bigram_measures.likelihood_ratio, 10))\n",
        "\n",
        "# ## Trigrams\n",
        "# finder = TrigramCollocationFinder.from_words()\n",
        "# # only trigrams that appear 3+ times\n",
        "# finder.apply_freq_filter(3)\n",
        "\n",
        "# # only trigrams that contain 'creature'\n",
        "# # finder.apply_ngram_filter(creature_filter)\n",
        "\n",
        "# # return the 10 n-grams with the highest PMI\n",
        "# print(finder.nbest(trigram_measures.likelihood_ratio, 10))"
      ]
    },
    {
      "attachments": {},
      "cell_type": "markdown",
      "id": "49cc45d2",
      "metadata": {},
      "source": [
        "## [2.6]"
      ]
    },
    {
      "cell_type": "code",
      "execution_count": null,
      "id": "6fd603ff",
      "metadata": {},
      "outputs": [],
      "source": []
    },
    {
      "cell_type": "markdown",
      "id": "hIwnQVuas5hE",
      "metadata": {
        "id": "hIwnQVuas5hE"
      },
      "source": [
        "## [2.7]"
      ]
    },
    {
      "cell_type": "code",
      "execution_count": null,
      "id": "EiajEpoos9K3",
      "metadata": {
        "id": "EiajEpoos9K3"
      },
      "outputs": [],
      "source": []
    },
    {
      "cell_type": "markdown",
      "id": "7orTRN5vs9vp",
      "metadata": {
        "id": "7orTRN5vs9vp"
      },
      "source": [
        "## [2.8]"
      ]
    },
    {
      "cell_type": "code",
      "execution_count": null,
      "id": "gIsBqnmXs_Mi",
      "metadata": {
        "id": "gIsBqnmXs_Mi"
      },
      "outputs": [],
      "source": []
    },
    {
      "cell_type": "markdown",
      "id": "oFmJ2HWqRNZa",
      "metadata": {
        "id": "oFmJ2HWqRNZa"
      },
      "source": [
        "# Step [3]: Text Cleaning and Normalization"
      ]
    },
    {
      "cell_type": "markdown",
      "id": "cwaCNfS9RNZc",
      "metadata": {
        "id": "cwaCNfS9RNZc"
      },
      "source": [
        "## [3.1] \n"
      ]
    },
    {
      "cell_type": "code",
      "execution_count": 129,
      "id": "db5f8861",
      "metadata": {},
      "outputs": [],
      "source": [
        "test_men = 'https://t.co/vFF3wKfJlH@address_libya بل ارادت ان تحمي @AlHadath الانفصاليين @AlHadath هو جزء من النسيج الاجتماعي في دوله مستقله ، ثم لماذا يتم قصف  كييف ، والكثير من المدن الاخري مثل اوديسا و يحتل مدن ساحليه لا يوجد بها روس اصلا ، واخيرا لماذا يستعين بالشيشان المتطرفين ويورط بيلاروسيا واراضيها @AlHadath هذا الفرق بين العقول التى تدير أوربا والعقول الموجودة على كراسي #السلطه # فى #مجتمعنا في حرب اوكرانيا كل دول الجوار فتحت أبوابها لايواء اللاجئين الاوكران حتى روسيا نفسها فإذا اللاجئ وجد فرصة البقاء لما ترك ماله وداره وخرج'"
      ]
    },
    {
      "cell_type": "code",
      "execution_count": 130,
      "id": "LhllhojDRNZd",
      "metadata": {
        "id": "LhllhojDRNZd"
      },
      "outputs": [],
      "source": [
        "def clean_mention_link(rgx_list, text):\n",
        "    new_text = text\n",
        "    for rgx_match in rgx_list:\n",
        "        new_text = re.sub(rgx_match,'', new_text)\n",
        "    return new_text  \n"
      ]
    },
    {
      "cell_type": "code",
      "execution_count": 131,
      "id": "8a4431f7",
      "metadata": {},
      "outputs": [
        {
          "data": {
            "text/plain": [
              "' بل ارادت ان تحمي  الانفصاليين  هو جزء من النسيج الاجتماعي في دوله مستقله ، ثم لماذا يتم قصف  كييف ، والكثير من المدن الاخري مثل اوديسا و يحتل مدن ساحليه لا يوجد بها روس اصلا ، واخيرا لماذا يستعين بالشيشان المتطرفين ويورط بيلاروسيا واراضيها  هذا الفرق بين العقول التى تدير أوربا والعقول الموجودة على كراسي #السلطه # فى #مجتمعنا في حرب اوكرانيا كل دول الجوار فتحت أبوابها لايواء اللاجئين الاوكران حتى روسيا نفسها فإذا اللاجئ وجد فرصة البقاء لما ترك ماله وداره وخرج'"
            ]
          },
          "execution_count": 131,
          "metadata": {},
          "output_type": "execute_result"
        }
      ],
      "source": [
        "rgx_list = ['@\\w*' , 'http\\S*']\n",
        "clean_mention_link(rgx_list ,test_men)"
      ]
    },
    {
      "cell_type": "markdown",
      "id": "MbJeF_CxRNZd",
      "metadata": {
        "id": "MbJeF_CxRNZd"
      },
      "source": [
        "## [3.2] "
      ]
    },
    {
      "cell_type": "code",
      "execution_count": 132,
      "id": "M_bO-W2DRNZe",
      "metadata": {
        "id": "M_bO-W2DRNZe"
      },
      "outputs": [],
      "source": [
        "def clean_hashtags(text):\n",
        "    return re.sub('#' , '',text)"
      ]
    },
    {
      "cell_type": "code",
      "execution_count": 134,
      "id": "2ba44616",
      "metadata": {},
      "outputs": [
        {
          "data": {
            "text/plain": [
              "'https://t.co/vFF3wKfJlH@address_libya بل ارادت ان تحمي @AlHadath الانفصاليين @AlHadath هو جزء من النسيج الاجتماعي في دوله مستقله ، ثم لماذا يتم قصف  كييف ، والكثير من المدن الاخري مثل اوديسا و يحتل مدن ساحليه لا يوجد بها روس اصلا ، واخيرا لماذا يستعين بالشيشان المتطرفين ويورط بيلاروسيا واراضيها @AlHadath هذا الفرق بين العقول التى تدير أوربا والعقول الموجودة على كراسي السلطه  فى مجتمعنا في حرب اوكرانيا كل دول الجوار فتحت أبوابها لايواء اللاجئين الاوكران حتى روسيا نفسها فإذا اللاجئ وجد فرصة البقاء لما ترك ماله وداره وخرج'"
            ]
          },
          "execution_count": 134,
          "metadata": {},
          "output_type": "execute_result"
        }
      ],
      "source": [
        "clean_hashtags(test_men)"
      ]
    },
    {
      "cell_type": "markdown",
      "id": "GY-HhD2YRNZe",
      "metadata": {
        "id": "GY-HhD2YRNZe"
      },
      "source": [
        "## [3.3] "
      ]
    },
    {
      "cell_type": "code",
      "execution_count": 268,
      "id": "l-5TSuHWRNZe",
      "metadata": {
        "id": "l-5TSuHWRNZe"
      },
      "outputs": [
        {
          "data": {
            "text/plain": [
              "'رووسيا'"
            ]
          },
          "execution_count": 268,
          "metadata": {},
          "output_type": "execute_result"
        }
      ],
      "source": [
        "def delete_repeated(text):\n",
        "    pattern = '(.)\\1{3,}'\n",
        "    output = re.sub(pattern,r'\\1', text)\n",
        "    return output\n",
        "delete_repeated('رووسيا')"
      ]
    },
    {
      "cell_type": "markdown",
      "id": "KV9D86kbRNZe",
      "metadata": {
        "id": "KV9D86kbRNZe"
      },
      "source": [
        "## [3.4] "
      ]
    },
    {
      "cell_type": "markdown",
      "id": "3fM_FPldSCxp",
      "metadata": {
        "id": "3fM_FPldSCxp"
      },
      "source": [
        "### [3.4.1] "
      ]
    },
    {
      "cell_type": "code",
      "execution_count": 336,
      "id": "ohGu5R14RNZe",
      "metadata": {
        "id": "ohGu5R14RNZe"
      },
      "outputs": [],
      "source": [
        "arabic_numbers  = r'١٢٣٤٥٦٧٨٩٠'\n",
        "english_numbers = r'1234567890'\n",
        "arabic_regexp = '[١٢٣٤٥٦٧٨٩٠]'\n",
        "# english_regexp = '[1234567890]'\n",
        "# eng_ar_reg = '[١٢٣٤٥٦٧٨٩٠]|[1234567890]'\n",
        "# r\"(%s)\" % r\"|\".join(arabic_numbers)\n",
        "def _sub(match_object, digits):\n",
        "    return english_numbers[digits.find(match_object.group(0))]\n",
        "def _sub_arabic(match_object):\n",
        "    return _sub(match_object, arabic_numbers)\n",
        "def replace_arabic(match_obj):\n",
        "    return re.sub(arabic_regexp, _sub_arabic, match_obj.group())"
      ]
    },
    {
      "cell_type": "code",
      "execution_count": 337,
      "id": "0848cc02",
      "metadata": {},
      "outputs": [],
      "source": [
        "\n",
        "def replace_numbers(text,regx,replace_function):\n",
        "    return re.sub(regx,replace_function,text)\n"
      ]
    },
    {
      "cell_type": "code",
      "execution_count": 338,
      "id": "5875a76e",
      "metadata": {},
      "outputs": [
        {
          "data": {
            "text/plain": [
              "'wes 111 and this is 1 for you'"
            ]
          },
          "execution_count": 338,
          "metadata": {},
          "output_type": "execute_result"
        }
      ],
      "source": [
        "arabic_regx ='[١٢٣٤٥٦٧٨٩٠]'\n",
        "replace_numbers('wes ١١١ and this is ١ for you',arabic_regx,replace_arabic)"
      ]
    },
    {
      "cell_type": "markdown",
      "id": "N2z1KmQXSAFs",
      "metadata": {
        "id": "N2z1KmQXSAFs"
      },
      "source": [
        "### [3.4.2] "
      ]
    },
    {
      "cell_type": "code",
      "execution_count": 454,
      "id": "50d3ff39",
      "metadata": {},
      "outputs": [
        {
          "data": {
            "text/plain": [
              "'wes ١١١ and this is 1 for you'"
            ]
          },
          "execution_count": 454,
          "metadata": {},
          "output_type": "execute_result"
        }
      ],
      "source": [
        "eng_ar_reg = '[١٢٣٤٥٦٧٨٩٠]|[1234567890]'\n",
        "replace_numbers('wes ١١١ and this is 1 for you',eng_ar_reg,'<NUM>')"
      ]
    },
    {
      "cell_type": "code",
      "execution_count": null,
      "id": "fmOXIMWoSAFt",
      "metadata": {
        "id": "fmOXIMWoSAFt"
      },
      "outputs": [],
      "source": []
    },
    {
      "cell_type": "markdown",
      "id": "fCBHc2y6SAL5",
      "metadata": {
        "id": "fCBHc2y6SAL5"
      },
      "source": [
        "### [3.4.3] "
      ]
    },
    {
      "cell_type": "code",
      "execution_count": 340,
      "id": "QJX_PtSzSAL6",
      "metadata": {
        "id": "QJX_PtSzSAL6"
      },
      "outputs": [
        {
          "data": {
            "text/plain": [
              "'wes  and this is  for you'"
            ]
          },
          "execution_count": 340,
          "metadata": {},
          "output_type": "execute_result"
        }
      ],
      "source": [
        "replace_numbers('wes ١١١ and this is 1 for you',eng_ar_reg,'')"
      ]
    },
    {
      "cell_type": "markdown",
      "id": "P1aLjPbzRNZe",
      "metadata": {
        "id": "P1aLjPbzRNZe"
      },
      "source": [
        "## [3.5] "
      ]
    },
    {
      "cell_type": "markdown",
      "id": "dbqN7BceSRhS",
      "metadata": {
        "id": "dbqN7BceSRhS"
      },
      "source": [
        "### [3.5.1] "
      ]
    },
    {
      "cell_type": "code",
      "execution_count": 367,
      "id": "caLTQ8EtSRhT",
      "metadata": {
        "id": "caLTQ8EtSRhT"
      },
      "outputs": [
        {
          "data": {
            "text/plain": [
              "'im doningandyou dine what anout you'"
            ]
          },
          "execution_count": 367,
          "metadata": {},
          "output_type": "execute_result"
        }
      ],
      "source": [
        "def delete_pun(text):\n",
        "    return re.sub(r'[^\\w\\s]|[_]','',text)\n",
        "delete_pun('im doning_and#you>, dine! what anout @you?!!!!')"
      ]
    },
    {
      "cell_type": "markdown",
      "id": "rad8wPeSSRhU",
      "metadata": {
        "id": "rad8wPeSSRhU"
      },
      "source": [
        "### [3.5.2] "
      ]
    },
    {
      "cell_type": "code",
      "execution_count": 376,
      "id": "UZuYtSHaSRhU",
      "metadata": {
        "id": "UZuYtSHaSRhU"
      },
      "outputs": [],
      "source": [
        "def delete_emojies(text):\n",
        "  # Ref: https://gist.github.com/Alex-Just/e86110836f3f93fe7932290526529cd1#gistcomment-3208085\n",
        "  # Ref: https://en.wikipedia.org/wiki/Unicode_block\n",
        "  emoji_Unicode = re.compile(\n",
        "    \"([\"\n",
        "    \"\\U00002600-\\U000027BF\"\n",
        "    \"\\U0001f300-\\U0001f64F\"\n",
        "    \"\\U0001F1E0-\\U0001F1FF\"  # flags (iOS)\n",
        "    \"\\U0001F300-\\U0001F5FF\"  # symbols & pictographs\n",
        "    \"\\U0001F600-\\U0001F64F\"  # emoticons\n",
        "    \"\\U0001F680-\\U0001F6FF\"  # transport & map symbols\n",
        "    \"\\U0001F700-\\U0001F77F\"  # alchemical symbols\n",
        "    \"\\U0001F780-\\U0001F7FF\"  # Geometric Shapes Extended\n",
        "    \"\\U0001F800-\\U0001F8FF\"  # Supplemental Arrows-C\n",
        "    \"\\U0001F900-\\U0001F9FF\"  # Supplemental Symbols and Pictographs\n",
        "    \"\\U0001FA00-\\U0001FA6F\"  # Chess Symbols\n",
        "    \"\\U0001FA70-\\U0001FAFF\"  # Symbols and Pictographs Extended-A\n",
        "    \"\\U00002702-\\U000027B0\"  # Dingbats\n",
        "    \"])\"\n",
        "  )\n",
        "  text = re.sub(emoji_Unicode,' ', text)\n",
        "  return text"
      ]
    },
    {
      "cell_type": "code",
      "execution_count": 377,
      "id": "16557dda",
      "metadata": {},
      "outputs": [
        {
          "data": {
            "text/plain": [
              "'Poti ️  hahahah yes '"
            ]
          },
          "execution_count": 377,
          "metadata": {},
          "output_type": "execute_result"
        }
      ],
      "source": [
        "delete_emojies('Poti❤️💦🔥hahahah🌷yes😂')"
      ]
    },
    {
      "cell_type": "markdown",
      "id": "FbIUIkezSRhU",
      "metadata": {
        "id": "FbIUIkezSRhU"
      },
      "source": [
        "### [3.5.3] "
      ]
    },
    {
      "cell_type": "code",
      "execution_count": 513,
      "id": "otquvQjuSRhV",
      "metadata": {
        "id": "otquvQjuSRhV"
      },
      "outputs": [
        {
          "data": {
            "text/plain": [
              "'انا حقولك 1و2و3 وانت       بتقولي ❤ كدا                 عشان        مش عارف@احمد_صاحبي        '"
            ]
          },
          "execution_count": 513,
          "metadata": {},
          "output_type": "execute_result"
        }
      ],
      "source": [
        "my_punct = ['!', '\"', '#', '$', '%', '&', \"'\", '(', ')', '*', '+', ',', '.',\n",
        "           '/', ':', ';', '<', '=', '>', '?', '@', '[', '\\\\', ']', '^', \n",
        "           '`', '{', '|', '}', '~', '»', '«', '“', '”','_']\n",
        "emojis =[\n",
        "    '\\U00002600-\\U000027BF',\n",
        "    '\\U0001f300-\\U0001f64F',\n",
        "    '\\U0001F1E0-\\U0001F1FF',  # flags (iOS)\n",
        "    '\\U0001F300-\\U0001F5FF',  # symbols & pictographs\n",
        "    '\\U0001F600-\\U0001F64F',  # emoticons\n",
        "    '\\U0001F680-\\U0001F6FF',  # transport & map symbols\n",
        "    '\\U0001F700-\\U0001F77F',  # alchemical symbols\n",
        "    '\\U0001F780-\\U0001F7FF',  # Geometric Shapes Extended\n",
        "    '\\U0001F800-\\U0001F8FF',  # Supplemental Arrows-C\n",
        "    '\\U0001F900-\\U0001F9FF',  # Supplemental Symbols and Pictographs\n",
        "    '\\U0001FA00-\\U0001FA6F',  # Chess Symbols\n",
        "    '\\U0001FA70-\\U0001FAFF',  # Symbols and Pictographs Extended-A\n",
        "    '\\U00002702-\\U000027B0',  # Dingbats\n",
        "    ]\n",
        "def remove_non_arabi(text):\n",
        "    punc_emoj = my_punct + emojis\n",
        "    emojis_str=''\n",
        "    for i in emojis:\n",
        "        emojis_str +=i\n",
        "    all_patterens_str = emojis_str +\"\".join(punc_emoj)+'١٢٣٤٥٦٧٨٩٠'\n",
        "    all_patterens_regx = re.compile(\"[^\"+all_patterens_str+\"0-9\"+ \"ا-ي\"+\"]\")\n",
        "    return re.sub(all_patterens_regx, \" \",text) # the \"-\" symbol should remain\n",
        "remove_non_arabi( \"انا حقولك 1و2و3 وانت时不再来。  بتقولي ❤ كدا  हिंदी वर्णमाला عشانहिन्दी  مش عارف@احمد_صاحبي russia \")\n"
      ]
    },
    {
      "cell_type": "markdown",
      "id": "N4WDktTgRNZf",
      "metadata": {
        "id": "N4WDktTgRNZf"
      },
      "source": [
        "## [3.6] "
      ]
    },
    {
      "cell_type": "code",
      "execution_count": null,
      "id": "B6icsYsFRNZf",
      "metadata": {
        "id": "B6icsYsFRNZf"
      },
      "outputs": [],
      "source": []
    },
    {
      "cell_type": "markdown",
      "id": "wbGPWNtoR4p-",
      "metadata": {
        "id": "wbGPWNtoR4p-"
      },
      "source": [
        "## [3.7] "
      ]
    },
    {
      "cell_type": "code",
      "execution_count": null,
      "id": "fAiyofe3R4qA",
      "metadata": {
        "id": "fAiyofe3R4qA"
      },
      "outputs": [],
      "source": []
    },
    {
      "cell_type": "markdown",
      "id": "V-rCzzoMR41T",
      "metadata": {
        "id": "V-rCzzoMR41T"
      },
      "source": [
        "## [3.8] "
      ]
    },
    {
      "cell_type": "markdown",
      "id": "iXF2L4Z-Sd3N",
      "metadata": {
        "id": "iXF2L4Z-Sd3N"
      },
      "source": [
        "### [3.8.1] "
      ]
    },
    {
      "cell_type": "code",
      "execution_count": 481,
      "id": "wk-Z3Gw4Sd3O",
      "metadata": {
        "id": "wk-Z3Gw4Sd3O"
      },
      "outputs": [
        {
          "data": {
            "text/plain": [
              "'ء والله '"
            ]
          },
          "execution_count": 481,
          "metadata": {},
          "output_type": "execute_result"
        }
      ],
      "source": [
        "def hamza_standardization(text):\n",
        "   return re.sub(r\"[ؤئء]\", \"ء\", text)\n",
        "hamza_standardization('ئ والله ')\n",
        "     "
      ]
    },
    {
      "cell_type": "markdown",
      "id": "ij5gdJA4Sd3O",
      "metadata": {
        "id": "ij5gdJA4Sd3O"
      },
      "source": [
        "### [3.8.2] "
      ]
    },
    {
      "cell_type": "code",
      "execution_count": 494,
      "id": "bDLOsd4tSd3O",
      "metadata": {
        "id": "bDLOsd4tSd3O"
      },
      "outputs": [
        {
          "data": {
            "text/plain": [
              "'والله جد! الن لديّ الكثيرُ من الاعمال'"
            ]
          },
          "execution_count": 494,
          "metadata": {},
          "output_type": "execute_result"
        }
      ],
      "source": [
        "def aliphs_standardization(text):\n",
        "    return re.sub(r\"[إأٱآا]\", \"ا\", text)\n",
        "aliphs_standardization('والله جد! آلن لديّ الكثيرُ من الآعمال')"
      ]
    },
    {
      "cell_type": "markdown",
      "id": "H6k8JnJDSd3P",
      "metadata": {
        "id": "H6k8JnJDSd3P"
      },
      "source": [
        "### [3.8.3] "
      ]
    },
    {
      "cell_type": "code",
      "execution_count": 486,
      "id": "JhSOCYLmSd3P",
      "metadata": {
        "id": "JhSOCYLmSd3P"
      },
      "outputs": [
        {
          "data": {
            "text/plain": [
              "'وليد تعال'"
            ]
          },
          "execution_count": 486,
          "metadata": {},
          "output_type": "execute_result"
        }
      ],
      "source": [
        "def tatwil_remover(text):\n",
        "    return re.sub(r'ـ' , \"\",text)\n",
        "tatwil_remover(' وليــدـ تعــــــال')\n"
      ]
    },
    {
      "cell_type": "markdown",
      "id": "1TmDb343Sls9",
      "metadata": {
        "id": "1TmDb343Sls9"
      },
      "source": [
        "### [3.8.4] "
      ]
    },
    {
      "cell_type": "code",
      "execution_count": 496,
      "id": "wWJ-Z11_Sls-",
      "metadata": {
        "id": "wWJ-Z11_Sls-"
      },
      "outputs": [
        {
          "data": {
            "text/plain": [
              "'لدي  الكثير  من الآعمال'"
            ]
          },
          "execution_count": 496,
          "metadata": {},
          "output_type": "execute_result"
        }
      ],
      "source": [
        "def tanwin_removal(text):\n",
        "    return re.sub(r'[ َ ً ِ ٍ ُ ٌ ّ ْ]',' ',text)\n",
        "tanwin_removal('لديّ الكثيرُ من الآعمال')\n"
      ]
    },
    {
      "cell_type": "markdown",
      "id": "0V5LD9EWVgY7",
      "metadata": {
        "id": "0V5LD9EWVgY7"
      },
      "source": [
        "## [3.9] "
      ]
    },
    {
      "cell_type": "code",
      "execution_count": 503,
      "id": "AkVzG3AWVgZA",
      "metadata": {
        "id": "AkVzG3AWVgZA"
      },
      "outputs": [
        {
          "data": {
            "text/plain": [
              "'شي حلوو والله كزا فراغ بفرااااغ '"
            ]
          },
          "execution_count": 503,
          "metadata": {},
          "output_type": "execute_result"
        }
      ],
      "source": [
        "def white_space_normlization(text):\n",
        "    return re.sub(r'\\s+',\" \",text)\n",
        "white_space_normlization('شي حلوو والله    كزا فراغ           بفرااااغ ')"
      ]
    },
    {
      "cell_type": "markdown",
      "id": "vc96CuQStFA9",
      "metadata": {
        "id": "vc96CuQStFA9"
      },
      "source": [
        "## [3.10]"
      ]
    },
    {
      "cell_type": "code",
      "execution_count": null,
      "id": "pCJ7itd3tJjw",
      "metadata": {
        "id": "pCJ7itd3tJjw"
      },
      "outputs": [],
      "source": []
    },
    {
      "cell_type": "markdown",
      "id": "exdhuH6GtLez",
      "metadata": {
        "id": "exdhuH6GtLez"
      },
      "source": [
        "## Extra"
      ]
    },
    {
      "cell_type": "code",
      "execution_count": null,
      "id": "_UOzIn6-tKlJ",
      "metadata": {
        "id": "_UOzIn6-tKlJ"
      },
      "outputs": [],
      "source": []
    },
    {
      "cell_type": "markdown",
      "id": "Jp-C0ZwrS8AY",
      "metadata": {
        "id": "Jp-C0ZwrS8AY"
      },
      "source": [
        "# Step [4]: Prepare Training Data"
      ]
    },
    {
      "cell_type": "markdown",
      "id": "pwtVy8DES8AZ",
      "metadata": {
        "id": "pwtVy8DES8AZ"
      },
      "source": [
        "## [4.1] \n"
      ]
    },
    {
      "cell_type": "markdown",
      "id": "b9c515ad",
      "metadata": {
        "id": "b9c515ad"
      },
      "source": [
        "تابع المعالجة النهائي سوف يكون كالآتي"
      ]
    },
    {
      "cell_type": "code",
      "execution_count": null,
      "id": "1747f25c",
      "metadata": {
        "id": "1747f25c"
      },
      "outputs": [],
      "source": [
        "def preprocess(tweet, remove_url = True, remove_mentions = True, ... ):\n",
        "    \"\"\"Process tweet function.\n",
        "    Input:\n",
        "        tweet: a string containing a tweet\n",
        "        flags: list of \"work\" values for all functions will called here.\n",
        "    Output:\n",
        "        cleaned_tweet: tweet after apply all cleaning and normlizaing functions\n",
        "\n",
        "    \"\"\"\n",
        "    if remove_url:\n",
        "        tweet = remove_urls(tweet)\n",
        "    if remove_mentions:\n",
        "        tweet = remove_mentions(tweet)\n",
        "    ...\n",
        "    return tweet"
      ]
    },
    {
      "cell_type": "markdown",
      "id": "npObP2JLUBgw",
      "metadata": {
        "id": "npObP2JLUBgw"
      },
      "source": [
        "## [4.2] "
      ]
    },
    {
      "cell_type": "code",
      "execution_count": null,
      "id": "V_KxmQdgUBg5",
      "metadata": {
        "id": "V_KxmQdgUBg5"
      },
      "outputs": [],
      "source": []
    },
    {
      "cell_type": "markdown",
      "id": "pTIrTECWUBg5",
      "metadata": {
        "id": "pTIrTECWUBg5"
      },
      "source": [
        "## [4.3] "
      ]
    },
    {
      "cell_type": "code",
      "execution_count": null,
      "id": "OqmCKe5lUBg6",
      "metadata": {
        "id": "OqmCKe5lUBg6"
      },
      "outputs": [],
      "source": []
    },
    {
      "cell_type": "markdown",
      "id": "6v0njm5qUBg6",
      "metadata": {
        "id": "6v0njm5qUBg6"
      },
      "source": [
        "## [4.4] "
      ]
    },
    {
      "cell_type": "code",
      "execution_count": null,
      "id": "DltX5hcnUHT1",
      "metadata": {
        "id": "DltX5hcnUHT1"
      },
      "outputs": [],
      "source": []
    }
  ],
  "metadata": {
    "colab": {
      "collapsed_sections": [
        "KFerFDFqPwPI",
        "-4LEgCtvPwaQ",
        "ZgzDVRqCQ72Q",
        "qQlGbCI3Q77R",
        "hIwnQVuas5hE",
        "7orTRN5vs9vp",
        "cwaCNfS9RNZc",
        "MbJeF_CxRNZd",
        "GY-HhD2YRNZe",
        "KV9D86kbRNZe",
        "3fM_FPldSCxp",
        "N2z1KmQXSAFs",
        "fCBHc2y6SAL5",
        "P1aLjPbzRNZe",
        "dbqN7BceSRhS",
        "rad8wPeSSRhU",
        "FbIUIkezSRhU",
        "N4WDktTgRNZf",
        "wbGPWNtoR4p-",
        "V-rCzzoMR41T",
        "iXF2L4Z-Sd3N",
        "ij5gdJA4Sd3O",
        "H6k8JnJDSd3P",
        "1TmDb343Sls9",
        "0V5LD9EWVgY7",
        "vc96CuQStFA9",
        "exdhuH6GtLez",
        "pwtVy8DES8AZ",
        "npObP2JLUBgw",
        "pTIrTECWUBg5",
        "6v0njm5qUBg6"
      ],
      "provenance": []
    },
    "kernelspec": {
      "display_name": "Python 3.9.13 ('base')",
      "language": "python",
      "name": "python3"
    },
    "language_info": {
      "codemirror_mode": {
        "name": "ipython",
        "version": 3
      },
      "file_extension": ".py",
      "mimetype": "text/x-python",
      "name": "python",
      "nbconvert_exporter": "python",
      "pygments_lexer": "ipython3",
      "version": "3.9.13"
    },
    "vscode": {
      "interpreter": {
        "hash": "f944705f064e68791190f4b1fe538986b5ceff64e1da9d2f83c5f90d017b2289"
      }
    }
  },
  "nbformat": 4,
  "nbformat_minor": 5
}
